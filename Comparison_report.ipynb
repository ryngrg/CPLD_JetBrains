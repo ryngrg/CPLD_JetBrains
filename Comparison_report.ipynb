{
 "cells": [
  {
   "cell_type": "markdown",
   "id": "2e2dc529",
   "metadata": {},
   "source": [
    "# Compact Programming Language Detectors\n",
    "<hr>\n",
    "\n",
    "## Approaches:\n",
    "* ### Relying only on source code\n",
    "    * Uses a neural networks (machine learning) based approach\n",
    "    * Example package: Guesslang\n",
    "    * Guesslang is used by Visual Studio Code for language detection\n",
    "* ### Using source file information\n",
    "    * Language detection leverages the presense of file extensions etc.\n",
    "    * Example packages: Linguist, Polyglot\n",
    "    * Linguist is used by Github for labelling language of a repository\n",
    "\n",
    "## Detectors used for analysis:\n",
    "* ### Guesslang\n",
    "https://github.com/yoeo/guesslang\n",
    "* ### Polyglot\n",
    "https://github.com/pranavbaburaj/polyglot\n",
    "\n",
    "## Basis of comparison\n",
    "* ### Accuracy\n",
    "Tested on test set of 80 source files\n",
    "* ### Execution Time\n",
    "Averaged run-time for the test files"
   ]
  },
  {
   "cell_type": "code",
   "execution_count": null,
   "id": "44b2b524",
   "metadata": {
    "scrolled": true
   },
   "outputs": [],
   "source": [
    "# install required packages\n",
    "import sys\n",
    "!{'\"'+(sys.executable)+'\"'} -m pip install numpy\n",
    "!{'\"'+(sys.executable)+'\"'} -m pip install matplotlib\n",
    "!{'\"'+(sys.executable)+'\"'} -m pip install guesslang\n",
    "!{'\"'+(sys.executable)+'\"'} -m pip install python-polyglot"
   ]
  },
  {
   "cell_type": "code",
   "execution_count": 2,
   "id": "1624fcc9",
   "metadata": {},
   "outputs": [],
   "source": [
    "# import libraries\n",
    "import os\n",
    "import numpy as np\n",
    "from polyglot.core import Polyglot\n",
    "from guesslang import Guess\n",
    "import matplotlib\n",
    "import matplotlib.pyplot as plt\n",
    "from time import process_time_ns"
   ]
  },
  {
   "cell_type": "markdown",
   "id": "2b2dffa9",
   "metadata": {},
   "source": [
    "## Test dataset\n",
    "* stored in directory **./data/**\n",
    "* Contains source codes in 8 languages.\n",
    "* Has 10 files for each language.\n",
    "* Files are picked from open source repositories on github"
   ]
  },
  {
   "cell_type": "code",
   "execution_count": 3,
   "id": "314e2c0e",
   "metadata": {},
   "outputs": [],
   "source": [
    "# list of languages\n",
    "langs = [\"python\", 'c', 'cpp', 'java', 'javascript', 'html', 'css', 'typescript']\n",
    "\n",
    "# make directories for test dataset\n",
    "for l in langs:\n",
    "    for i in range(10):\n",
    "        try:\n",
    "            os.mkdir(\"./data/\"+ l + str(i+1))\n",
    "        except FileExistsError:\n",
    "            continue"
   ]
  },
  {
   "cell_type": "code",
   "execution_count": 4,
   "id": "860e6682",
   "metadata": {},
   "outputs": [],
   "source": [
    "# Helper functions\n",
    "\n",
    "def read_file(directory):\n",
    "    \"\"\"\n",
    "    Function for reading code from source file\n",
    "    \"\"\"\n",
    "    files = os.listdir(directory)\n",
    "    if len(files) != 1:\n",
    "        return \"\"\n",
    "    file = files[0]\n",
    "    f = open(directory + \"/\" + file, \"r\")\n",
    "    source_code = f.read()\n",
    "    f.close()\n",
    "    return source_code\n",
    "\n",
    "def update_conf_matrix(conf, actual, predicted):\n",
    "    \"\"\"\n",
    "    Function for updating confusion matrix\n",
    "    \"\"\"\n",
    "    predicted = predicted.lower()\n",
    "    if predicted == \"c++\":\n",
    "        predicted = \"cpp\"\n",
    "    if predicted in langs:\n",
    "        conf[langs.index(actual)][langs.index(predicted)] += 1\n",
    "    else:\n",
    "        conf[langs.index(actual)][len(langs)] += 1\n",
    "        \n",
    "def show_conf_matrix(matrix, name):\n",
    "    \"\"\"\n",
    "    Funstion for displaying a confusion matrix\n",
    "    \"\"\"\n",
    "    fig, ax = plt.subplots()\n",
    "    img = ax.imshow(matrix)\n",
    "    ax.set_xticks(np.arange(len(langs) + 1), labels = langs+[\"Other\"])\n",
    "    ax.set_yticks(np.arange(len(langs)), labels=langs)\n",
    "    plt.setp(ax.get_xticklabels(), rotation=45, ha=\"right\", rotation_mode=\"anchor\")\n",
    "    for i in range(len(langs)):\n",
    "        for j in range(len(langs) + 1):\n",
    "            text = ax.text(j, i, int(matrix[i, j]), ha=\"center\", va=\"center\", color=\"w\")\n",
    "    ax.set_title(\"Confusion matrix - \" + name)\n",
    "    ax.set_xlabel(\"Predicted language\")\n",
    "    ax.set_ylabel(\"Actual language\")\n",
    "    fig.tight_layout()\n",
    "    plt.show()"
   ]
  },
  {
   "cell_type": "markdown",
   "id": "ee810452",
   "metadata": {},
   "source": [
    "## Working of the language detectors\n",
    "\n",
    "### Guesslang\n",
    "* Neural network implemented using tensorflow.\n",
    "* Performs forward propagation on trained model to predict language.\n",
    "\n",
    "### Polyglot\n",
    "* Looks up language for filename extension in a language detection file (languages.yaml)\n",
    "* Creates objects for all files in a directory and computes percentage of each language in the directory."
   ]
  },
  {
   "cell_type": "code",
   "execution_count": 5,
   "id": "d903c22b",
   "metadata": {},
   "outputs": [],
   "source": [
    "# Initialize confusion matrices and arrays to store execution time\n",
    "conf_guess = np.zeros((len(langs), len(langs)+1))\n",
    "conf_pgt = np.zeros((len(langs), len(langs)+1))\n",
    "time_guess = np.zeros((len(langs), 10))\n",
    "time_pgt = np.zeros((len(langs), 10))\n",
    "\n",
    "guess = Guess()\n",
    "\n",
    "# make this variable True to see details:\n",
    "see_details = False\n",
    "\n",
    "for l in langs:\n",
    "    for i in range(10):\n",
    "        if see_details:\n",
    "            print(l, i + 1)\n",
    "        dirname = \"./data/\" + l + str(i+1)\n",
    "        \n",
    "        # use guseslang to detect language\n",
    "        source_code = read_file(dirname)\n",
    "        if source_code == \"\":\n",
    "            lang_name = \"None\"\n",
    "        else:\n",
    "            start = process_time_ns()\n",
    "            lang_name = guess.language_name(source_code)\n",
    "            end = process_time_ns()\n",
    "        if see_details:\n",
    "            print(\"\\tguesslang:\", lang_name)\n",
    "        time_guess[langs.index(l)][i] = end - start\n",
    "        update_conf_matrix(conf_guess, l, lang_name)\n",
    "        \n",
    "        # use polyglot to detect language\n",
    "        polyglot = Polyglot(dirname)\n",
    "        start = process_time_ns()\n",
    "        stats = polyglot.show(display=False) ['files']\n",
    "        end = process_time_ns()\n",
    "        try:\n",
    "            lang_name = max(stats, key = lambda x: stats[x]['total'])\n",
    "        except ValueError:\n",
    "            lang_name = \"None\"\n",
    "        if see_details:\n",
    "            print(\"\\tpolyglot :\", lang_name, \"\\n\")\n",
    "        time_pgt[langs.index(l)][i] = end - start\n",
    "        update_conf_matrix(conf_pgt, l, lang_name)"
   ]
  },
  {
   "cell_type": "code",
   "execution_count": 6,
   "id": "0f2cf9c5",
   "metadata": {},
   "outputs": [
    {
     "data": {
      "image/png": "[encoded data removed]",
      "text/plain": [
       "<Figure size 432x288 with 1 Axes>"
      ]
     },
     "metadata": {
      "needs_background": "light"
     },
     "output_type": "display_data"
    },
    {
     "data": {
      "image/png": "[encoded data removed]",
      "text/plain": [
       "<Figure size 432x288 with 1 Axes>"
      ]
     },
     "metadata": {
      "needs_background": "light"
     },
     "output_type": "display_data"
    },
    {
     "name": "stdout",
     "output_type": "stream",
     "text": [
      "\n",
      "Average time taken by guesslang: 19.7265625 milli-seconds\n",
      "Average time taken by polyglot : 1207.8125 milli-seconds\n"
     ]
    }
   ],
   "source": [
    "# visualize confusion matrices\n",
    "show_conf_matrix(conf_guess, \"Guesslang\")\n",
    "show_conf_matrix(conf_pgt, \"Polyglot\")\n",
    "\n",
    "# see difference in execution times\n",
    "print()\n",
    "print(\"Average time taken by guesslang:\", np.mean(time_guess) / (10**6), \"milli-seconds\")\n",
    "print(\"Average time taken by polyglot :\", np.mean(time_pgt) / (10**6), \"milli-seconds\")"
   ]
  },
  {
   "cell_type": "markdown",
   "id": "7271078a",
   "metadata": {},
   "source": [
    "## Results\n",
    "* ### Accuracy\n",
    "    * Guesslang confused 2/10 C programs to be C++, 1/10 HTML script to be Go, and 1/10 JavaScript code to be TypeScript.\n",
    "    * This can be explained because C, C++ and JavaScript, TypeScript have similar syntax.\n",
    "    * Polyglot predicted every language correctly as all files had correct extensions.\n",
    "\n",
    "* ### Execution Time\n",
    "    * On average, guesslang only took 19.73 ms for each prediction, whereas polyglot took 1207.81 ms.\n",
    "    * This makes sense because guesslang only had to preprocess code and perform forward propagation, whereas polyglot computed percentages of each language by number of files and number of lines in the entire directory."
   ]
  },
  {
   "cell_type": "markdown",
   "id": "4ffc16f4",
   "metadata": {},
   "source": [
    "## Conclusion\n",
    "* ### Guesslang is fast, however it gets confused between languages with similar syntax.\n",
    "* ### Ployglot is slow, but is perfect if the file name extensions are known. It is useless if the files donot have apprppriate extensions."
   ]
  },
  {
   "cell_type": "markdown",
   "id": "c73ccfb6",
   "metadata": {},
   "source": [
    "## My suggested idea for solving this problem\n",
    "* If file extension is available, use that to predict language by looking up a language file like polyglot.\n",
    "* Otherwise, use the detector described as follows:\n",
    "    * Learn feature set for languages through training set\n",
    "    * Feature set should contain: \n",
    "        * Frequency of characters other than letters and digits (,.-_/#$% etc.)\n",
    "        * List of commonly occuring keywords of the language\n",
    "    * Compares test source code with feature library and returns the language which matches the most."
   ]
  },
  {
   "cell_type": "code",
   "execution_count": null,
   "id": "400b5607",
   "metadata": {},
   "outputs": [],
   "source": []
  }
 ],
 "metadata": {
  "kernelspec": {
   "display_name": "Python 3 (ipykernel)",
   "language": "python",
   "name": "python3"
  },
  "language_info": {
   "codemirror_mode": {
    "name": "ipython",
    "version": 3
   },
   "file_extension": ".py",
   "mimetype": "text/x-python",
   "name": "python",
   "nbconvert_exporter": "python",
   "pygments_lexer": "ipython3",
   "version": "3.7.8"
  }
 },
 "nbformat": 4,
 "nbformat_minor": 5
}
